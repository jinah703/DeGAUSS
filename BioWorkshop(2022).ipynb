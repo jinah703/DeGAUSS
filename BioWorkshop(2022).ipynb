{
  "nbformat": 4,
  "nbformat_minor": 0,
  "metadata": {
    "colab": {
      "name": "BioWorkshop(2022).ipynb",
      "private_outputs": true,
      "provenance": [],
      "collapsed_sections": [],
      "authorship_tag": "ABX9TyMdq8lt8bquaOXtUSdltTMX",
      "include_colab_link": true
    },
    "kernelspec": {
      "name": "python3",
      "display_name": "Python 3"
    },
    "language_info": {
      "name": "python"
    }
  },
  "cells": [
    {
      "cell_type": "markdown",
      "metadata": {
        "id": "view-in-github",
        "colab_type": "text"
      },
      "source": [
        "<a href=\"https://colab.research.google.com/github/jinah703/DeGAUSS/blob/master/BioWorkshop(2022).ipynb\" target=\"_parent\"><img src=\"https://colab.research.google.com/assets/colab-badge.svg\" alt=\"Open In Colab\"/></a>"
      ]
    },
    {
      "cell_type": "code",
      "source": [
        "from google.colab import drive\n",
        "drive.mount('/content/drive/')"
      ],
      "metadata": {
        "id": "MXsBjugG7kXw"
      },
      "execution_count": null,
      "outputs": []
    },
    {
      "cell_type": "markdown",
      "source": [
        "Loading data"
      ],
      "metadata": {
        "id": "FIOg3YumJp83"
      }
    },
    {
      "cell_type": "code",
      "source": [
        "import pandas as pd\n",
        "exp_df = pd.read_csv('/content/drive/MyDrive/Colab Notebooks/COAD_PRAD_exp5000.csv')\n",
        "exp_label=pd.read_csv('/content/drive/MyDrive/tumortype_COAD_PRAD.csv')"
      ],
      "metadata": {
        "id": "PN0l2d9IG46B"
      },
      "execution_count": null,
      "outputs": []
    },
    {
      "cell_type": "markdown",
      "source": [
        "# Data exploration"
      ],
      "metadata": {
        "id": "GN0mDJzNICy1"
      }
    },
    {
      "cell_type": "markdown",
      "source": [
        "Taking a look"
      ],
      "metadata": {
        "id": "t769CbO2J0g_"
      }
    },
    {
      "cell_type": "code",
      "source": [
        "exp_df.head()"
      ],
      "metadata": {
        "id": "qntVk3jTJ3cy"
      },
      "execution_count": null,
      "outputs": []
    },
    {
      "cell_type": "code",
      "source": [
        "exp_df.shape"
      ],
      "metadata": {
        "id": "szLxLzxQJ9TX"
      },
      "execution_count": null,
      "outputs": []
    },
    {
      "cell_type": "code",
      "source": [
        "exp_df.describe()"
      ],
      "metadata": {
        "id": "1r8xONfwK1vr"
      },
      "execution_count": null,
      "outputs": []
    },
    {
      "cell_type": "code",
      "source": [
        "exp_df.plot(y=['ENSG00000000003', 'ENSG00000000419', 'ENSG00000001084'], kind='hist', subplots=True)"
      ],
      "metadata": {
        "id": "yJZZWG9NK8XD"
      },
      "execution_count": null,
      "outputs": []
    },
    {
      "cell_type": "markdown",
      "source": [
        "# Training / Test set 나누기"
      ],
      "metadata": {
        "id": "jddsrkuqIDKc"
      }
    },
    {
      "cell_type": "code",
      "source": [
        "import numpy as np\n",
        "from sklearn.model_selection import train_test_split"
      ],
      "metadata": {
        "id": "7_r9aPaDLShu"
      },
      "execution_count": null,
      "outputs": []
    },
    {
      "cell_type": "code",
      "source": [
        "x_train, x_test, y_train, y_test = train_test_split(exp_df, exp_label, test_size=0.2, shuffle=True, random_state=5)"
      ],
      "metadata": {
        "id": "3p4sy-5DLfGt"
      },
      "execution_count": null,
      "outputs": []
    },
    {
      "cell_type": "code",
      "source": [
        "x_train.shape, x_test.shape, y_train.shape, y_test.shape"
      ],
      "metadata": {
        "id": "kRHkAdmbPEpv"
      },
      "execution_count": null,
      "outputs": []
    },
    {
      "cell_type": "markdown",
      "source": [
        "# PCA (Principal Component Analysis) for dimension reduction"
      ],
      "metadata": {
        "id": "zxhqTnoSMVIM"
      }
    },
    {
      "cell_type": "code",
      "source": [
        "from re import X\n",
        "from sklearn.decomposition import PCA\n",
        "X_train =x_train.drop(columns='barcode')\n",
        "pca = PCA(n_components=2)\n",
        "X_train_pca=pca.fit_transform(X_train)\n",
        "print(X_train_pca.shape)"
      ],
      "metadata": {
        "id": "hajCuPY2MTaW"
      },
      "execution_count": null,
      "outputs": []
    },
    {
      "cell_type": "code",
      "source": [
        "X_train.shape"
      ],
      "metadata": {
        "id": "tXo1Q-4XPvxL"
      },
      "execution_count": null,
      "outputs": []
    },
    {
      "cell_type": "code",
      "source": [
        "pca.explained_variance_ratio_"
      ],
      "metadata": {
        "id": "j2WygQjqObKX"
      },
      "execution_count": null,
      "outputs": []
    },
    {
      "cell_type": "code",
      "source": [
        "pd.DataFrame(pca.components_)"
      ],
      "metadata": {
        "id": "JFKGK5JTPnJg"
      },
      "execution_count": null,
      "outputs": []
    },
    {
      "cell_type": "markdown",
      "source": [
        "# PCA Plot 그리기\n"
      ],
      "metadata": {
        "id": "KSE7Ka9UP4RD"
      }
    },
    {
      "cell_type": "code",
      "source": [
        "y_train.head()"
      ],
      "metadata": {
        "id": "7wXEVew6Qk-5"
      },
      "execution_count": null,
      "outputs": []
    },
    {
      "cell_type": "markdown",
      "source": [
        "#Text 형태의 outcome을 int 형태로 바꾸기"
      ],
      "metadata": {
        "id": "Zd9e_NFLRjoS"
      }
    },
    {
      "cell_type": "code",
      "source": [
        "Y = ( y_train.tumortype == 'COAD').astype('int')"
      ],
      "metadata": {
        "id": "cmL4_F3jQPut"
      },
      "execution_count": null,
      "outputs": []
    },
    {
      "cell_type": "markdown",
      "source": [
        "#Data visualization"
      ],
      "metadata": {
        "id": "_4KHLt_IQR2W"
      }
    },
    {
      "cell_type": "code",
      "source": [
        "import matplotlib.pyplot as plt\n",
        "plt.scatter(X_train_pca[:,0], X_train_pca[:,1], c=Y, cmap='rainbow')\n",
        "plt.xlabel('First Principal Component')\n",
        "plt.ylabel('Second Principal Component')\n",
        "plt.title(\"PCA\", fontsize = 20)"
      ],
      "metadata": {
        "id": "dK7l_SzDQ-4N"
      },
      "execution_count": null,
      "outputs": []
    },
    {
      "cell_type": "code",
      "source": [
        "pd.DataFrame(W)"
      ],
      "metadata": {
        "id": "BLfMHlp9VrEZ"
      },
      "execution_count": null,
      "outputs": []
    },
    {
      "cell_type": "code",
      "source": [
        "pd.DataFrame(H)"
      ],
      "metadata": {
        "id": "Xi048dJYV37n"
      },
      "execution_count": null,
      "outputs": []
    },
    {
      "cell_type": "code",
      "source": [
        "plt.scatter(W[:,0], W[:,1], c=Y, cmap='rainbow')"
      ],
      "metadata": {
        "id": "a_vOxeJ_V7yV"
      },
      "execution_count": null,
      "outputs": []
    },
    {
      "cell_type": "markdown",
      "source": [
        "#t-SNE (t-distributed Stochastic Neighbor Embedding)"
      ],
      "metadata": {
        "id": "bR2vY7vrWkTC"
      }
    },
    {
      "cell_type": "code",
      "source": [
        "from sklearn.manifold import TSNE\n",
        "X_train_tsne= TSNE(random_state=25, n_components=2, verbose=0, perplexity=40, n_iter=400).fit_transform(X_train)"
      ],
      "metadata": {
        "id": "b1wLOXl2WjBx"
      },
      "execution_count": null,
      "outputs": []
    },
    {
      "cell_type": "code",
      "source": [
        "plt.scatter(X_train_tnse[:,0], X_train_tsne[:,1], c=Y, cmap='rainbow')"
      ],
      "metadata": {
        "id": "M6N-vL39X4b8"
      },
      "execution_count": null,
      "outputs": []
    },
    {
      "cell_type": "markdown",
      "source": [
        "# Data normalization\n"
      ],
      "metadata": {
        "id": "3ZsI1F3oth7Z"
      }
    },
    {
      "cell_type": "code",
      "source": [
        "from sklearn.preprocessing import StandardScaler"
      ],
      "metadata": {
        "id": "H2CRznZetrpL"
      },
      "execution_count": null,
      "outputs": []
    },
    {
      "cell_type": "code",
      "source": [
        "X_train = StandardScaler().fit_transform(X_train)"
      ],
      "metadata": {
        "id": "S34nuY-MtvYL"
      },
      "execution_count": null,
      "outputs": []
    },
    {
      "cell_type": "code",
      "source": [
        "X_test=x_test.drop(columns='barcode')"
      ],
      "metadata": {
        "id": "tvq5swx6t9dW"
      },
      "execution_count": null,
      "outputs": []
    },
    {
      "cell_type": "markdown",
      "source": [
        "#Logistic Regression"
      ],
      "metadata": {
        "id": "kFaxl-t-unVv"
      }
    },
    {
      "cell_type": "markdown",
      "source": [
        "### Importing the logistic regression model"
      ],
      "metadata": {
        "id": "InTy0RIVuz92"
      }
    },
    {
      "cell_type": "code",
      "source": [
        "from sklearn.linear_model import LogisticRegression"
      ],
      "metadata": {
        "id": "7n8JYBALu-Bg"
      },
      "execution_count": null,
      "outputs": []
    },
    {
      "cell_type": "markdown",
      "source": [
        "###Initiation of the model"
      ],
      "metadata": {
        "id": "UVFSi2gSvCou"
      }
    },
    {
      "cell_type": "code",
      "source": [
        "Logreg_cls = LogisticRegression()"
      ],
      "metadata": {
        "id": "qiHjI68yu6eu"
      },
      "execution_count": null,
      "outputs": []
    },
    {
      "cell_type": "markdown",
      "source": [
        "###Training the model"
      ],
      "metadata": {
        "id": "siRADZROwJYA"
      }
    },
    {
      "cell_type": "code",
      "source": [
        "Logreg_cls.fit(X_train, Y)"
      ],
      "metadata": {
        "id": "5UiU0PGvwS1E"
      },
      "execution_count": null,
      "outputs": []
    },
    {
      "cell_type": "markdown",
      "source": [
        "###Make Predictions"
      ],
      "metadata": {
        "id": "4P37qXtwyiCn"
      }
    },
    {
      "cell_type": "code",
      "source": [
        "Y_predicted = Logreg_cls.predict(X_test)"
      ],
      "metadata": {
        "id": "xBlWaciTwe83"
      },
      "execution_count": null,
      "outputs": []
    },
    {
      "cell_type": "markdown",
      "source": [
        ""
      ],
      "metadata": {
        "id": "KYGkPEatwocj"
      }
    },
    {
      "cell_type": "code",
      "source": [
        "Y_predicted.shape"
      ],
      "metadata": {
        "id": "yOSb7XIwwr9b"
      },
      "execution_count": null,
      "outputs": []
    },
    {
      "cell_type": "code",
      "source": [
        ""
      ],
      "metadata": {
        "id": "joNAw6vAxCKP"
      },
      "execution_count": null,
      "outputs": []
    },
    {
      "cell_type": "code",
      "source": [
        ""
      ],
      "metadata": {
        "id": "meVuN7lxwb7n"
      },
      "execution_count": null,
      "outputs": []
    },
    {
      "cell_type": "code",
      "source": [
        ""
      ],
      "metadata": {
        "id": "t2PY0LQKwYFZ"
      },
      "execution_count": null,
      "outputs": []
    }
  ]
}